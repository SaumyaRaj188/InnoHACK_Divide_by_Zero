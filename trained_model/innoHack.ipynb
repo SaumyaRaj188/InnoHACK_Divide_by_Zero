{
  "nbformat": 4,
  "nbformat_minor": 0,
  "metadata": {
    "colab": {
      "provenance": [],
      "gpuType": "T4"
    },
    "kernelspec": {
      "name": "python3",
      "display_name": "Python 3"
    },
    "language_info": {
      "name": "python"
    },
    "accelerator": "GPU"
  },
  "cells": [
    {
      "cell_type": "code",
      "execution_count": 62,
      "metadata": {
        "id": "dMCv3v3JoOQx"
      },
      "outputs": [],
      "source": [
        "import tensorflow as tf"
      ]
    },
    {
      "cell_type": "markdown",
      "source": [
        "# creating Dataset"
      ],
      "metadata": {
        "id": "s7xWqNA5Uob_"
      }
    },
    {
      "cell_type": "code",
      "source": [
        "import pandas as pd\n",
        "df = pd.read_csv(\"eng_to_hin.csv\")\n",
        "df.head()\n",
        "vocab_size = 50000\n",
        "max_length = 100\n",
        "text_vec_layer_en = tf.keras.layers.TextVectorization(\n",
        "    vocab_size, output_sequence_length=max_length)\n",
        "text_vec_layer_hi = tf.keras.layers.TextVectorization(\n",
        "    vocab_size, output_sequence_length=max_length)\n",
        "text_vec_layer_en.adapt(df.English)\n",
        "text_vec_layer_hi.adapt([f\"startofseq {s} endofseq\" for s in df.Hindi])\n",
        "\n",
        "X_train = tf.constant(df.English[:120])\n",
        "X_valid = tf.constant(df.English[120:])\n",
        "X_train_dec = tf.constant([f\"startofseq {s}\" for s in df.Hindi[:120]])\n",
        "X_valid_dec = tf.constant([f\"startofseq {s}\" for s in df.Hindi[120:]])\n",
        "Y_train = text_vec_layer_hi([f\"{s} endofseq\" for s in df.Hindi[:120]])\n",
        "Y_valid = text_vec_layer_hi([f\"{s} endofseq\" for s in df.Hindi[120:]])"
      ],
      "metadata": {
        "id": "CQ5BqFOVSJfw"
      },
      "execution_count": 68,
      "outputs": []
    },
    {
      "cell_type": "markdown",
      "source": [
        "# Creating model"
      ],
      "metadata": {
        "id": "jfIsIlq5N6jo"
      }
    },
    {
      "cell_type": "code",
      "source": [
        "text_vec_layer_en.vocabulary_size()"
      ],
      "metadata": {
        "colab": {
          "base_uri": "https://localhost:8080/"
        },
        "id": "hB8CQLX0EbgG",
        "outputId": "9b0eb3b8-95ec-4701-a7cf-20c3ba423b20"
      },
      "execution_count": 69,
      "outputs": [
        {
          "output_type": "execute_result",
          "data": {
            "text/plain": [
              "217"
            ]
          },
          "metadata": {},
          "execution_count": 69
        }
      ]
    },
    {
      "cell_type": "code",
      "source": [
        "text_vec_layer_hi.vocabulary_size()"
      ],
      "metadata": {
        "colab": {
          "base_uri": "https://localhost:8080/"
        },
        "id": "xphTMNa2EeMq",
        "outputId": "be4a1b04-04c8-4a67-d337-8034a07c3e29"
      },
      "execution_count": 70,
      "outputs": [
        {
          "output_type": "execute_result",
          "data": {
            "text/plain": [
              "243"
            ]
          },
          "metadata": {},
          "execution_count": 70
        }
      ]
    },
    {
      "cell_type": "code",
      "source": [
        "text_vec_layer_hi([\"कृपया वह स्थान चुनें\"])"
      ],
      "metadata": {
        "colab": {
          "base_uri": "https://localhost:8080/"
        },
        "id": "xd5fvXFsQhSF",
        "outputId": "8c92f907-bdbd-45b9-b05b-d7cff6c706d8"
      },
      "execution_count": 71,
      "outputs": [
        {
          "output_type": "execute_result",
          "data": {
            "text/plain": [
              "<tf.Tensor: shape=(1, 100), dtype=int64, numpy=\n",
              "array([[13,  1,  1,  1,  0,  0,  0,  0,  0,  0,  0,  0,  0,  0,  0,  0,\n",
              "         0,  0,  0,  0,  0,  0,  0,  0,  0,  0,  0,  0,  0,  0,  0,  0,\n",
              "         0,  0,  0,  0,  0,  0,  0,  0,  0,  0,  0,  0,  0,  0,  0,  0,\n",
              "         0,  0,  0,  0,  0,  0,  0,  0,  0,  0,  0,  0,  0,  0,  0,  0,\n",
              "         0,  0,  0,  0,  0,  0,  0,  0,  0,  0,  0,  0,  0,  0,  0,  0,\n",
              "         0,  0,  0,  0,  0,  0,  0,  0,  0,  0,  0,  0,  0,  0,  0,  0,\n",
              "         0,  0,  0,  0]])>"
            ]
          },
          "metadata": {},
          "execution_count": 71
        }
      ]
    },
    {
      "cell_type": "code",
      "source": [
        "encoder_inputs = tf.keras.layers.Input(shape=[], dtype=tf.string)\n",
        "decoder_inputs = tf.keras.layers.Input(shape=[], dtype=tf.string)"
      ],
      "metadata": {
        "id": "GuG41S30PB_l"
      },
      "execution_count": 124,
      "outputs": []
    },
    {
      "cell_type": "code",
      "source": [
        "embed_size = 128\n",
        "encoder_input_ids = text_vec_layer_en(encoder_inputs)\n",
        "decoder_input_ids = text_vec_layer_hi(decoder_inputs)\n",
        "encoder_embedding_layer = tf.keras.layers.Embedding(text_vec_layer_en.vocabulary_size(), embed_size,\n",
        "                                                    mask_zero=True)\n",
        "decoder_embedding_layer = tf.keras.layers.Embedding(text_vec_layer_hi.vocabulary_size(), embed_size,\n",
        "                                                    mask_zero=True)\n",
        "encoder_embeddings = encoder_embedding_layer(encoder_input_ids)\n",
        "decoder_embeddings = decoder_embedding_layer(decoder_input_ids)"
      ],
      "metadata": {
        "id": "OYtexWWNPGPe"
      },
      "execution_count": 125,
      "outputs": []
    },
    {
      "cell_type": "code",
      "source": [
        "encoder = tf.keras.layers.LSTM(512, return_state=True)\n",
        "encoder_outputs, *encoder_state = encoder(encoder_embeddings)"
      ],
      "metadata": {
        "id": "Z7OjeYJ6Q5Rs"
      },
      "execution_count": 126,
      "outputs": []
    },
    {
      "cell_type": "code",
      "source": [
        "decoder = tf.keras.layers.LSTM(512, return_sequences=True)\n",
        "decoder_outputs = decoder(decoder_embeddings, initial_state=encoder_state)"
      ],
      "metadata": {
        "id": "Yvpcv7NmRoB5"
      },
      "execution_count": 127,
      "outputs": []
    },
    {
      "cell_type": "code",
      "source": [
        "output_layer = tf.keras.layers.Dense(text_vec_layer_hi.vocabulary_size(), activation=\"softmax\")\n",
        "Y_proba = output_layer(decoder_outputs)"
      ],
      "metadata": {
        "id": "fmi2yBRiRp7-"
      },
      "execution_count": 128,
      "outputs": []
    },
    {
      "cell_type": "markdown",
      "source": [
        "# training model"
      ],
      "metadata": {
        "id": "CYSTXdyBYkQK"
      }
    },
    {
      "cell_type": "code",
      "source": [
        "# Define the TensorBoard callback\n",
        "tensorboard_callback = tf.keras.callbacks.TensorBoard(log_dir=\"/content/logs\")"
      ],
      "metadata": {
        "id": "LqRXg6ZWfQJA"
      },
      "execution_count": 129,
      "outputs": []
    },
    {
      "cell_type": "code",
      "source": [
        "model = tf.keras.Model(inputs=[encoder_inputs, decoder_inputs],\n",
        "                       outputs=[Y_proba])\n",
        "model.compile(loss=\"sparse_categorical_crossentropy\", optimizer=\"nadam\",\n",
        "              metrics=[\"accuracy\"])\n",
        "history = model.fit((X_train, X_train_dec), Y_train, epochs=100,\n",
        "          validation_data=((X_valid, X_valid_dec), Y_valid))"
      ],
      "metadata": {
        "colab": {
          "base_uri": "https://localhost:8080/"
        },
        "id": "o6_tjSwbYzhb",
        "outputId": "fa615f5f-caa8-4a98-a9cc-a4300d034a5a"
      },
      "execution_count": 131,
      "outputs": [
        {
          "output_type": "stream",
          "name": "stdout",
          "text": [
            "Epoch 1/100\n",
            "4/4 [==============================] - 13s 1s/step - loss: 5.4793 - accuracy: 0.2030 - val_loss: 5.3912 - val_accuracy: 0.3562\n",
            "Epoch 2/100\n",
            "4/4 [==============================] - 1s 184ms/step - loss: 5.1357 - accuracy: 0.2474 - val_loss: 4.1772 - val_accuracy: 0.2438\n",
            "Epoch 3/100\n",
            "4/4 [==============================] - 1s 231ms/step - loss: 4.2935 - accuracy: 0.2144 - val_loss: 3.8279 - val_accuracy: 0.2375\n",
            "Epoch 4/100\n",
            "4/4 [==============================] - 0s 146ms/step - loss: 3.9227 - accuracy: 0.2223 - val_loss: 3.3147 - val_accuracy: 0.2688\n",
            "Epoch 5/100\n",
            "4/4 [==============================] - 1s 230ms/step - loss: 3.6590 - accuracy: 0.2634 - val_loss: 3.1063 - val_accuracy: 0.3500\n",
            "Epoch 6/100\n",
            "4/4 [==============================] - 1s 238ms/step - loss: 3.4739 - accuracy: 0.3033 - val_loss: 2.9595 - val_accuracy: 0.5000\n",
            "Epoch 7/100\n",
            "4/4 [==============================] - 0s 111ms/step - loss: 3.3119 - accuracy: 0.3295 - val_loss: 2.9596 - val_accuracy: 0.5000\n",
            "Epoch 8/100\n",
            "4/4 [==============================] - 0s 111ms/step - loss: 3.1831 - accuracy: 0.3455 - val_loss: 2.8632 - val_accuracy: 0.5125\n",
            "Epoch 9/100\n",
            "4/4 [==============================] - 1s 108ms/step - loss: 3.0921 - accuracy: 0.3512 - val_loss: 2.8435 - val_accuracy: 0.5688\n",
            "Epoch 10/100\n",
            "4/4 [==============================] - 0s 71ms/step - loss: 2.9818 - accuracy: 0.3740 - val_loss: 2.8904 - val_accuracy: 0.5250\n",
            "Epoch 11/100\n",
            "4/4 [==============================] - 0s 76ms/step - loss: 2.8684 - accuracy: 0.3979 - val_loss: 2.8277 - val_accuracy: 0.6250\n",
            "Epoch 12/100\n",
            "4/4 [==============================] - 0s 115ms/step - loss: 2.7662 - accuracy: 0.4116 - val_loss: 2.8090 - val_accuracy: 0.6250\n",
            "Epoch 13/100\n",
            "4/4 [==============================] - 0s 38ms/step - loss: 2.6528 - accuracy: 0.4242 - val_loss: 2.8081 - val_accuracy: 0.6000\n",
            "Epoch 14/100\n",
            "4/4 [==============================] - 1s 161ms/step - loss: 2.5595 - accuracy: 0.4413 - val_loss: 2.8439 - val_accuracy: 0.6062\n",
            "Epoch 15/100\n",
            "4/4 [==============================] - 1s 231ms/step - loss: 2.4565 - accuracy: 0.4538 - val_loss: 2.8082 - val_accuracy: 0.6125\n",
            "Epoch 16/100\n",
            "4/4 [==============================] - 0s 107ms/step - loss: 2.3859 - accuracy: 0.4595 - val_loss: 2.7749 - val_accuracy: 0.6313\n",
            "Epoch 17/100\n",
            "4/4 [==============================] - 0s 104ms/step - loss: 2.2783 - accuracy: 0.4835 - val_loss: 2.8085 - val_accuracy: 0.6375\n",
            "Epoch 18/100\n",
            "4/4 [==============================] - 0s 30ms/step - loss: 2.1724 - accuracy: 0.5063 - val_loss: 2.7670 - val_accuracy: 0.6313\n",
            "Epoch 19/100\n",
            "4/4 [==============================] - 0s 69ms/step - loss: 2.1094 - accuracy: 0.5006 - val_loss: 2.7428 - val_accuracy: 0.6375\n",
            "Epoch 20/100\n",
            "4/4 [==============================] - 0s 30ms/step - loss: 2.0306 - accuracy: 0.5314 - val_loss: 2.7539 - val_accuracy: 0.6375\n",
            "Epoch 21/100\n",
            "4/4 [==============================] - 0s 28ms/step - loss: 1.9150 - accuracy: 0.5405 - val_loss: 2.7812 - val_accuracy: 0.6375\n",
            "Epoch 22/100\n",
            "4/4 [==============================] - 0s 72ms/step - loss: 1.8294 - accuracy: 0.5485 - val_loss: 2.7627 - val_accuracy: 0.6375\n",
            "Epoch 23/100\n",
            "4/4 [==============================] - 0s 32ms/step - loss: 1.7766 - accuracy: 0.5610 - val_loss: 2.7475 - val_accuracy: 0.6375\n",
            "Epoch 24/100\n",
            "4/4 [==============================] - 0s 28ms/step - loss: 1.6814 - accuracy: 0.5713 - val_loss: 2.7513 - val_accuracy: 0.6375\n",
            "Epoch 25/100\n",
            "4/4 [==============================] - 0s 68ms/step - loss: 1.6111 - accuracy: 0.5838 - val_loss: 2.7552 - val_accuracy: 0.6375\n",
            "Epoch 26/100\n",
            "4/4 [==============================] - 0s 69ms/step - loss: 1.5285 - accuracy: 0.6078 - val_loss: 2.7781 - val_accuracy: 0.6375\n",
            "Epoch 27/100\n",
            "4/4 [==============================] - 0s 69ms/step - loss: 1.4673 - accuracy: 0.6135 - val_loss: 2.7809 - val_accuracy: 0.6375\n",
            "Epoch 28/100\n",
            "4/4 [==============================] - 0s 28ms/step - loss: 1.3978 - accuracy: 0.6306 - val_loss: 2.8476 - val_accuracy: 0.6375\n",
            "Epoch 29/100\n",
            "4/4 [==============================] - 0s 28ms/step - loss: 1.3425 - accuracy: 0.6431 - val_loss: 2.8724 - val_accuracy: 0.6750\n",
            "Epoch 30/100\n",
            "4/4 [==============================] - 0s 67ms/step - loss: 1.2786 - accuracy: 0.6579 - val_loss: 2.8378 - val_accuracy: 0.6625\n",
            "Epoch 31/100\n",
            "4/4 [==============================] - 0s 69ms/step - loss: 1.2077 - accuracy: 0.6796 - val_loss: 2.8291 - val_accuracy: 0.6938\n",
            "Epoch 32/100\n",
            "4/4 [==============================] - 0s 28ms/step - loss: 1.1489 - accuracy: 0.6887 - val_loss: 2.8416 - val_accuracy: 0.6938\n",
            "Epoch 33/100\n",
            "4/4 [==============================] - 0s 28ms/step - loss: 1.0854 - accuracy: 0.7035 - val_loss: 2.8552 - val_accuracy: 0.7125\n",
            "Epoch 34/100\n",
            "4/4 [==============================] - 0s 33ms/step - loss: 1.0290 - accuracy: 0.7229 - val_loss: 2.8630 - val_accuracy: 0.7125\n",
            "Epoch 35/100\n",
            "4/4 [==============================] - 0s 29ms/step - loss: 0.9919 - accuracy: 0.7412 - val_loss: 2.8940 - val_accuracy: 0.7063\n",
            "Epoch 36/100\n",
            "4/4 [==============================] - 0s 28ms/step - loss: 0.9987 - accuracy: 0.7298 - val_loss: 2.7606 - val_accuracy: 0.7312\n",
            "Epoch 37/100\n",
            "4/4 [==============================] - 0s 27ms/step - loss: 0.9105 - accuracy: 0.7560 - val_loss: 2.9080 - val_accuracy: 0.7188\n",
            "Epoch 38/100\n",
            "4/4 [==============================] - 0s 27ms/step - loss: 0.8466 - accuracy: 0.7913 - val_loss: 2.8960 - val_accuracy: 0.7188\n",
            "Epoch 39/100\n",
            "4/4 [==============================] - 0s 28ms/step - loss: 0.8021 - accuracy: 0.7970 - val_loss: 2.9453 - val_accuracy: 0.7250\n",
            "Epoch 40/100\n",
            "4/4 [==============================] - 0s 29ms/step - loss: 0.7598 - accuracy: 0.8130 - val_loss: 2.9344 - val_accuracy: 0.7250\n",
            "Epoch 41/100\n",
            "4/4 [==============================] - 1s 112ms/step - loss: 0.7213 - accuracy: 0.8347 - val_loss: 2.9955 - val_accuracy: 0.7188\n",
            "Epoch 42/100\n",
            "4/4 [==============================] - 0s 32ms/step - loss: 0.6795 - accuracy: 0.8392 - val_loss: 3.0593 - val_accuracy: 0.7125\n",
            "Epoch 43/100\n",
            "4/4 [==============================] - 0s 30ms/step - loss: 0.6467 - accuracy: 0.8529 - val_loss: 3.0098 - val_accuracy: 0.7312\n",
            "Epoch 44/100\n",
            "4/4 [==============================] - 0s 28ms/step - loss: 0.6087 - accuracy: 0.8620 - val_loss: 2.9627 - val_accuracy: 0.7375\n",
            "Epoch 45/100\n",
            "4/4 [==============================] - 0s 28ms/step - loss: 0.5756 - accuracy: 0.8632 - val_loss: 2.9824 - val_accuracy: 0.7375\n",
            "Epoch 46/100\n",
            "4/4 [==============================] - 0s 28ms/step - loss: 0.5447 - accuracy: 0.8609 - val_loss: 3.0774 - val_accuracy: 0.7312\n",
            "Epoch 47/100\n",
            "4/4 [==============================] - 0s 28ms/step - loss: 0.5479 - accuracy: 0.8655 - val_loss: 3.0851 - val_accuracy: 0.7250\n",
            "Epoch 48/100\n",
            "4/4 [==============================] - 0s 29ms/step - loss: 0.4985 - accuracy: 0.8894 - val_loss: 3.1193 - val_accuracy: 0.7312\n",
            "Epoch 49/100\n",
            "4/4 [==============================] - 0s 30ms/step - loss: 0.4749 - accuracy: 0.8917 - val_loss: 3.1058 - val_accuracy: 0.7312\n",
            "Epoch 50/100\n",
            "4/4 [==============================] - 0s 29ms/step - loss: 0.4506 - accuracy: 0.8917 - val_loss: 3.1742 - val_accuracy: 0.7250\n",
            "Epoch 51/100\n",
            "4/4 [==============================] - 0s 28ms/step - loss: 0.4496 - accuracy: 0.8905 - val_loss: 3.1183 - val_accuracy: 0.7250\n",
            "Epoch 52/100\n",
            "4/4 [==============================] - 0s 29ms/step - loss: 0.4192 - accuracy: 0.9031 - val_loss: 3.0734 - val_accuracy: 0.7312\n",
            "Epoch 53/100\n",
            "4/4 [==============================] - 0s 29ms/step - loss: 0.3927 - accuracy: 0.9076 - val_loss: 3.1158 - val_accuracy: 0.7375\n",
            "Epoch 54/100\n",
            "4/4 [==============================] - 0s 28ms/step - loss: 0.3719 - accuracy: 0.9111 - val_loss: 3.1258 - val_accuracy: 0.7312\n",
            "Epoch 55/100\n",
            "4/4 [==============================] - 0s 28ms/step - loss: 0.3577 - accuracy: 0.9168 - val_loss: 3.0684 - val_accuracy: 0.7375\n",
            "Epoch 56/100\n",
            "4/4 [==============================] - 0s 28ms/step - loss: 0.3419 - accuracy: 0.9213 - val_loss: 3.1009 - val_accuracy: 0.7375\n",
            "Epoch 57/100\n",
            "4/4 [==============================] - 0s 32ms/step - loss: 0.3258 - accuracy: 0.9225 - val_loss: 3.0997 - val_accuracy: 0.7312\n",
            "Epoch 58/100\n",
            "4/4 [==============================] - 0s 31ms/step - loss: 0.3147 - accuracy: 0.9270 - val_loss: 3.1181 - val_accuracy: 0.7312\n",
            "Epoch 59/100\n",
            "4/4 [==============================] - 0s 68ms/step - loss: 0.3010 - accuracy: 0.9293 - val_loss: 3.1620 - val_accuracy: 0.7250\n",
            "Epoch 60/100\n",
            "4/4 [==============================] - 0s 28ms/step - loss: 0.2924 - accuracy: 0.9304 - val_loss: 3.2100 - val_accuracy: 0.7250\n",
            "Epoch 61/100\n",
            "4/4 [==============================] - 0s 28ms/step - loss: 0.2883 - accuracy: 0.9282 - val_loss: 3.1971 - val_accuracy: 0.7312\n",
            "Epoch 62/100\n",
            "4/4 [==============================] - 0s 28ms/step - loss: 0.2744 - accuracy: 0.9316 - val_loss: 3.1147 - val_accuracy: 0.7437\n",
            "Epoch 63/100\n",
            "4/4 [==============================] - 0s 30ms/step - loss: 0.2696 - accuracy: 0.9361 - val_loss: 3.1222 - val_accuracy: 0.7375\n",
            "Epoch 64/100\n",
            "4/4 [==============================] - 0s 28ms/step - loss: 0.2560 - accuracy: 0.9453 - val_loss: 3.1154 - val_accuracy: 0.7375\n",
            "Epoch 65/100\n",
            "4/4 [==============================] - 0s 29ms/step - loss: 0.2551 - accuracy: 0.9430 - val_loss: 3.1868 - val_accuracy: 0.7312\n",
            "Epoch 66/100\n",
            "4/4 [==============================] - 0s 30ms/step - loss: 0.2330 - accuracy: 0.9521 - val_loss: 3.1805 - val_accuracy: 0.7250\n",
            "Epoch 67/100\n",
            "4/4 [==============================] - 0s 107ms/step - loss: 0.2200 - accuracy: 0.9498 - val_loss: 3.1730 - val_accuracy: 0.7375\n",
            "Epoch 68/100\n",
            "4/4 [==============================] - 0s 32ms/step - loss: 0.2092 - accuracy: 0.9601 - val_loss: 3.2688 - val_accuracy: 0.7375\n",
            "Epoch 69/100\n",
            "4/4 [==============================] - 0s 29ms/step - loss: 0.2018 - accuracy: 0.9578 - val_loss: 3.1754 - val_accuracy: 0.7437\n",
            "Epoch 70/100\n",
            "4/4 [==============================] - 0s 28ms/step - loss: 0.1959 - accuracy: 0.9544 - val_loss: 3.1000 - val_accuracy: 0.7375\n",
            "Epoch 71/100\n",
            "4/4 [==============================] - 0s 28ms/step - loss: 0.1909 - accuracy: 0.9567 - val_loss: 3.2151 - val_accuracy: 0.7375\n",
            "Epoch 72/100\n",
            "4/4 [==============================] - 0s 27ms/step - loss: 0.1804 - accuracy: 0.9590 - val_loss: 3.1900 - val_accuracy: 0.7312\n",
            "Epoch 73/100\n",
            "4/4 [==============================] - 0s 71ms/step - loss: 0.1736 - accuracy: 0.9658 - val_loss: 3.2934 - val_accuracy: 0.7312\n",
            "Epoch 74/100\n",
            "4/4 [==============================] - 0s 32ms/step - loss: 0.1648 - accuracy: 0.9669 - val_loss: 3.2233 - val_accuracy: 0.7375\n",
            "Epoch 75/100\n",
            "4/4 [==============================] - 0s 28ms/step - loss: 0.1590 - accuracy: 0.9669 - val_loss: 3.2647 - val_accuracy: 0.7437\n",
            "Epoch 76/100\n",
            "4/4 [==============================] - 0s 28ms/step - loss: 0.1569 - accuracy: 0.9704 - val_loss: 3.3388 - val_accuracy: 0.7375\n",
            "Epoch 77/100\n",
            "4/4 [==============================] - 0s 32ms/step - loss: 0.1494 - accuracy: 0.9658 - val_loss: 3.3115 - val_accuracy: 0.7312\n",
            "Epoch 78/100\n",
            "4/4 [==============================] - 0s 28ms/step - loss: 0.1416 - accuracy: 0.9681 - val_loss: 3.2612 - val_accuracy: 0.7375\n",
            "Epoch 79/100\n",
            "4/4 [==============================] - 0s 32ms/step - loss: 0.1372 - accuracy: 0.9749 - val_loss: 3.2441 - val_accuracy: 0.7375\n",
            "Epoch 80/100\n",
            "4/4 [==============================] - 0s 29ms/step - loss: 0.1320 - accuracy: 0.9726 - val_loss: 3.2601 - val_accuracy: 0.7375\n",
            "Epoch 81/100\n",
            "4/4 [==============================] - 0s 30ms/step - loss: 0.1271 - accuracy: 0.9783 - val_loss: 3.2743 - val_accuracy: 0.7312\n",
            "Epoch 82/100\n",
            "4/4 [==============================] - 0s 31ms/step - loss: 0.1235 - accuracy: 0.9818 - val_loss: 3.3121 - val_accuracy: 0.7312\n",
            "Epoch 83/100\n",
            "4/4 [==============================] - 0s 32ms/step - loss: 0.1203 - accuracy: 0.9795 - val_loss: 3.2994 - val_accuracy: 0.7375\n",
            "Epoch 84/100\n",
            "4/4 [==============================] - 0s 28ms/step - loss: 0.1151 - accuracy: 0.9749 - val_loss: 3.3144 - val_accuracy: 0.7375\n",
            "Epoch 85/100\n",
            "4/4 [==============================] - 0s 28ms/step - loss: 0.1104 - accuracy: 0.9852 - val_loss: 3.2910 - val_accuracy: 0.7375\n",
            "Epoch 86/100\n",
            "4/4 [==============================] - 0s 28ms/step - loss: 0.1062 - accuracy: 0.9783 - val_loss: 3.3166 - val_accuracy: 0.7375\n",
            "Epoch 87/100\n",
            "4/4 [==============================] - 0s 28ms/step - loss: 0.1049 - accuracy: 0.9795 - val_loss: 3.3676 - val_accuracy: 0.7375\n",
            "Epoch 88/100\n",
            "4/4 [==============================] - 0s 31ms/step - loss: 0.1000 - accuracy: 0.9875 - val_loss: 3.3194 - val_accuracy: 0.7375\n",
            "Epoch 89/100\n",
            "4/4 [==============================] - 0s 38ms/step - loss: 0.0967 - accuracy: 0.9863 - val_loss: 3.2721 - val_accuracy: 0.7437\n",
            "Epoch 90/100\n",
            "4/4 [==============================] - 0s 45ms/step - loss: 0.0944 - accuracy: 0.9852 - val_loss: 3.3435 - val_accuracy: 0.7375\n",
            "Epoch 91/100\n",
            "4/4 [==============================] - 0s 43ms/step - loss: 0.0934 - accuracy: 0.9829 - val_loss: 3.2470 - val_accuracy: 0.7437\n",
            "Epoch 92/100\n",
            "4/4 [==============================] - 0s 41ms/step - loss: 0.0909 - accuracy: 0.9875 - val_loss: 3.3343 - val_accuracy: 0.7437\n",
            "Epoch 93/100\n",
            "4/4 [==============================] - 0s 43ms/step - loss: 0.0855 - accuracy: 0.9932 - val_loss: 3.2973 - val_accuracy: 0.7437\n",
            "Epoch 94/100\n",
            "4/4 [==============================] - 0s 46ms/step - loss: 0.0816 - accuracy: 0.9909 - val_loss: 3.3212 - val_accuracy: 0.7375\n",
            "Epoch 95/100\n",
            "4/4 [==============================] - 0s 45ms/step - loss: 0.0774 - accuracy: 0.9886 - val_loss: 3.3527 - val_accuracy: 0.7375\n",
            "Epoch 96/100\n",
            "4/4 [==============================] - 0s 42ms/step - loss: 0.0749 - accuracy: 0.9875 - val_loss: 3.3501 - val_accuracy: 0.7437\n",
            "Epoch 97/100\n",
            "4/4 [==============================] - 0s 42ms/step - loss: 0.0719 - accuracy: 0.9954 - val_loss: 3.3457 - val_accuracy: 0.7375\n",
            "Epoch 98/100\n",
            "4/4 [==============================] - 0s 44ms/step - loss: 0.0700 - accuracy: 0.9909 - val_loss: 3.3644 - val_accuracy: 0.7375\n",
            "Epoch 99/100\n",
            "4/4 [==============================] - 1s 175ms/step - loss: 0.0677 - accuracy: 0.9909 - val_loss: 3.3749 - val_accuracy: 0.7375\n",
            "Epoch 100/100\n",
            "4/4 [==============================] - 0s 31ms/step - loss: 0.0651 - accuracy: 0.9932 - val_loss: 3.4032 - val_accuracy: 0.7375\n"
          ]
        }
      ]
    },
    {
      "cell_type": "code",
      "source": [
        "import numpy as np\n",
        "def translate(sentence_en):\n",
        "    translation = \"\"\n",
        "    for word_idx in range(max_length):\n",
        "        X = np.array([sentence_en])  # encoder input\n",
        "        X_dec = np.array([\"startofseq \" + translation])  # decoder input\n",
        "        y_proba = model.predict((X, X_dec))[0, word_idx]  # last token's probas\n",
        "        predicted_word_id = np.argmax(y_proba)\n",
        "        predicted_word = text_vec_layer_hi.get_vocabulary()[predicted_word_id]\n",
        "        if predicted_word == \"endofseq\":\n",
        "            break\n",
        "        translation += \" \" + predicted_word\n",
        "    return translation.strip()"
      ],
      "metadata": {
        "id": "JOd6UfFXammI"
      },
      "execution_count": 132,
      "outputs": []
    },
    {
      "cell_type": "code",
      "source": [
        "X_train[:10]"
      ],
      "metadata": {
        "colab": {
          "base_uri": "https://localhost:8080/"
        },
        "id": "ylU6GHdLa5OR",
        "outputId": "fd7a1c38-4b2e-46c6-aee6-8c39e29b24ed"
      },
      "execution_count": 133,
      "outputs": [
        {
          "output_type": "execute_result",
          "data": {
            "text/plain": [
              "<tf.Tensor: shape=(10,), dtype=string, numpy=\n",
              "array([b'Please wait a moment.', b\"I don't understand.\",\n",
              "       b'Excuse me, where is the restroom?', b'What time is it?',\n",
              "       b'How much does it cost?', b'Where can I find a taxi?',\n",
              "       b'I am hungry.', b'I am thirsty.', b'I am tired.',\n",
              "       b'Where is the nearest hospital?'], dtype=object)>"
            ]
          },
          "metadata": {},
          "execution_count": 133
        }
      ]
    },
    {
      "cell_type": "markdown",
      "source": [
        "currently due to very less training our model spits out random things sometimes but still it has learned to maintain grammer"
      ],
      "metadata": {
        "id": "LHxrDdFkeoca"
      }
    },
    {
      "cell_type": "code",
      "source": [
        "translate(\"Please wait a moment.\")"
      ],
      "metadata": {
        "colab": {
          "base_uri": "https://localhost:8080/",
          "height": 145
        },
        "id": "R71SrYg-bW6T",
        "outputId": "74e8124b-45ad-4884-8656-0b713e6272e0"
      },
      "execution_count": 134,
      "outputs": [
        {
          "output_type": "stream",
          "name": "stdout",
          "text": [
            "1/1 [==============================] - 2s 2s/step\n",
            "1/1 [==============================] - 0s 30ms/step\n",
            "1/1 [==============================] - 0s 37ms/step\n",
            "1/1 [==============================] - 0s 29ms/step\n",
            "1/1 [==============================] - 0s 30ms/step\n",
            "1/1 [==============================] - 0s 29ms/step\n"
          ]
        },
        {
          "output_type": "execute_result",
          "data": {
            "text/plain": [
              "'कृपया एक क्षण प्रतीक्षा करें।'"
            ],
            "application/vnd.google.colaboratory.intrinsic+json": {
              "type": "string"
            }
          },
          "metadata": {},
          "execution_count": 134
        }
      ]
    },
    {
      "cell_type": "code",
      "source": [
        "translate(\"I am hungry.\")"
      ],
      "metadata": {
        "colab": {
          "base_uri": "https://localhost:8080/",
          "height": 127
        },
        "id": "FBwCweBDbebZ",
        "outputId": "077385cd-70eb-4456-b170-2cdf0587d8e7"
      },
      "execution_count": 135,
      "outputs": [
        {
          "output_type": "stream",
          "name": "stdout",
          "text": [
            "1/1 [==============================] - 0s 21ms/step\n",
            "1/1 [==============================] - 0s 19ms/step\n",
            "1/1 [==============================] - 0s 20ms/step\n",
            "1/1 [==============================] - 0s 21ms/step\n",
            "1/1 [==============================] - 0s 20ms/step\n"
          ]
        },
        {
          "output_type": "execute_result",
          "data": {
            "text/plain": [
              "'मुझे भूख लगी है।'"
            ],
            "application/vnd.google.colaboratory.intrinsic+json": {
              "type": "string"
            }
          },
          "metadata": {},
          "execution_count": 135
        }
      ]
    },
    {
      "cell_type": "code",
      "source": [
        "import matplotlib.pyplot as plt"
      ],
      "metadata": {
        "id": "KqvVV3C4jRnC"
      },
      "execution_count": 137,
      "outputs": []
    },
    {
      "cell_type": "code",
      "source": [
        "loss_values = history.history['loss']\n",
        "val_loss_values = history.history['val_loss']\n",
        "\n",
        "# Plot both training and validation loss curves\n",
        "plt.plot(loss_values, label='Training Loss')\n",
        "plt.plot(val_loss_values, label='Validation Loss')\n",
        "plt.xlabel('Epochs')\n",
        "plt.ylabel('Loss')\n",
        "plt.title('Training and Validation Loss Curves')\n",
        "plt.legend()\n",
        "plt.grid()\n",
        "plt.show()"
      ],
      "metadata": {
        "colab": {
          "base_uri": "https://localhost:8080/",
          "height": 472
        },
        "id": "grtutty7jegO",
        "outputId": "48ba94a0-4d41-4f0e-c2f8-3c59203a45ab"
      },
      "execution_count": 144,
      "outputs": [
        {
          "output_type": "display_data",
          "data": {
            "text/plain": [
              "<Figure size 640x480 with 1 Axes>"
            ],
            "image/png": "[encoded data removed]"
          },
          "metadata": {}
        }
      ]
    },
    {
      "cell_type": "code",
      "source": [
        "acc_values = history.history['accuracy']\n",
        "val_acc_values = history.history['val_accuracy']\n",
        "\n",
        "# Plot both training and validation loss curves\n",
        "plt.plot(acc_values, label='Training Accuracy')\n",
        "plt.plot(val_acc_values, label='Validation Accuracy')\n",
        "plt.xlabel('Epochs')\n",
        "plt.ylabel('Accuracy')\n",
        "plt.title('Training and Validation Accuracy Curves')\n",
        "plt.legend()\n",
        "plt.grid()\n",
        "plt.show()"
      ],
      "metadata": {
        "colab": {
          "base_uri": "https://localhost:8080/",
          "height": 472
        },
        "id": "JuQsXRw6jhPP",
        "outputId": "e2a26a0e-e1e8-42af-b82e-56a76365d9c8"
      },
      "execution_count": 145,
      "outputs": [
        {
          "output_type": "display_data",
          "data": {
            "text/plain": [
              "<Figure size 640x480 with 1 Axes>"
            ],
            "image/png": "[encoded data removed]"
          },
          "metadata": {}
        }
      ]
    },
    {
      "cell_type": "code",
      "source": [
        "model.save(\"trained_translation_model\")"
      ],
      "metadata": {
        "id": "md-Qw3Vrkf_h"
      },
      "execution_count": 152,
      "outputs": []
    },
    {
      "cell_type": "code",
      "source": [
        "!zip -r /content/translation_model.zip /content/trained_translation_model"
      ],
      "metadata": {
        "colab": {
          "base_uri": "https://localhost:8080/"
        },
        "id": "lVPkDHUzmmm-",
        "outputId": "7d204152-1bfe-47d9-9297-b9062b0e2638"
      },
      "execution_count": 153,
      "outputs": [
        {
          "output_type": "stream",
          "name": "stdout",
          "text": [
            "  adding: content/trained_translation_model/ (stored 0%)\n",
            "  adding: content/trained_translation_model/keras_metadata.pb (deflated 91%)\n",
            "  adding: content/trained_translation_model/variables/ (stored 0%)\n",
            "  adding: content/trained_translation_model/variables/variables.data-00000-of-00001 (deflated 7%)\n",
            "  adding: content/trained_translation_model/variables/variables.index (deflated 63%)\n",
            "  adding: content/trained_translation_model/fingerprint.pb (stored 0%)\n",
            "  adding: content/trained_translation_model/assets/ (stored 0%)\n",
            "  adding: content/trained_translation_model/saved_model.pb (deflated 90%)\n"
          ]
        }
      ]
    },
    {
      "cell_type": "code",
      "source": [],
      "metadata": {
        "id": "E0sAmNVbnEMh"
      },
      "execution_count": null,
      "outputs": []
    }
  ]
}